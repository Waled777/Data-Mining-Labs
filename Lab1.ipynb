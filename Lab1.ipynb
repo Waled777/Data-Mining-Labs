{
 "cells": [
  {
   "cell_type": "markdown",
   "metadata": {},
   "source": [
    "<p> This my <b> first Python code </b>"
   ]
  },
  {
   "cell_type": "raw",
   "metadata": {},
   "source": [
    "raw text"
   ]
  },
  {
   "cell_type": "markdown",
   "metadata": {},
   "source": [
    "https://www.taibahu.edu.sa"
   ]
  },
  {
   "cell_type": "markdown",
   "metadata": {},
   "source": [
    "[click this link]( https://www.taibahu.edu.sa)"
   ]
  },
  {
   "cell_type": "markdown",
   "metadata": {},
   "source": [
    "[click this link]( https://www.taibahu.edu.sa “Taibah unviresty“) "
   ]
  },
  {
   "cell_type": "markdown",
   "metadata": {},
   "source": [
    "$$c = \\sqrt{a^2 + b^2}$$"
   ]
  },
  {
   "cell_type": "markdown",
   "metadata": {},
   "source": [
    "$$e^{i\\pi} + 1 =0$$"
   ]
  },
  {
   "cell_type": "markdown",
   "metadata": {},
   "source": [
    "$$e^x=\\sum_{i=0}^\\infty \\frac{1}{i!}x^i$$"
   ]
  },
  {
   "cell_type": "markdown",
   "metadata": {},
   "source": [
    "$$r'F(k) = \\int_{-\\infty}^{\\infty} f(x) e^{2\\pi i k} dx'$$"
   ]
  },
  {
   "cell_type": "markdown",
   "metadata": {},
   "source": [
    "$$\\begin{pmatrix}\n",
    "1 & a_1 & a_1^2 & \\cdots & a_1^n \\\\\n",
    "1 & a_2 & a_2^2 & \\cdots & a_2^n \\\\\n",
    "\\vdots & \\vdots& \\vdots & \\ddots & \\vdots \\\\\n",
    "1 & a_m & a_m^2 & \\cdots & a_m^n\n",
    "\\end{pmatrix}$$"
   ]
  },
  {
   "cell_type": "markdown",
   "metadata": {},
   "source": [
    "# <p><b>Home Work "
   ]
  },
  {
   "cell_type": "markdown",
   "metadata": {},
   "source": [
    "$$f(x) = a_0 + \\sum_{n=1}^\\infty\\bigl(a_n \\cos\\frac{n \\pi x}{L} + b_n\\sin\\frac{n \\pi x}{L}\\bigr)$$    "
   ]
  },
  {
   "cell_type": "markdown",
   "metadata": {},
   "source": [
    "$$(x + a)^n = \\sum_{k=0}^{n}\\binom{n}{k} x^k a^{n-k}$$"
   ]
  }
 ],
 "metadata": {
  "kernelspec": {
   "display_name": "Python 3",
   "language": "python",
   "name": "python3"
  },
  "language_info": {
   "codemirror_mode": {
    "name": "ipython",
    "version": 3
   },
   "file_extension": ".py",
   "mimetype": "text/x-python",
   "name": "python",
   "nbconvert_exporter": "python",
   "pygments_lexer": "ipython3",
   "version": "3.8.5"
  }
 },
 "nbformat": 4,
 "nbformat_minor": 4
}
