{
 "cells": [
  {
   "cell_type": "markdown",
   "metadata": {},
   "source": [
    "## 1.Passing Variables by value and reference"
   ]
  },
  {
   "cell_type": "markdown",
   "metadata": {},
   "source": [
    "### Example 1.1"
   ]
  },
  {
   "cell_type": "code",
   "execution_count": 1,
   "metadata": {},
   "outputs": [
    {
     "name": "stdout",
     "output_type": "stream",
     "text": [
      "Welcome !\n",
      "My favorite # is  7\n"
     ]
    }
   ],
   "source": [
    "def conform(fav):\n",
    "    fav = 42\n",
    "    return fav\n",
    "if __name__== \"__main__\" :\n",
    "    print(\"Welcome !\")\n",
    "    fav = 7 \n",
    "    conform(fav)\n",
    "    print(\"My favorite # is \" , fav)\n"
   ]
  },
  {
   "cell_type": "markdown",
   "metadata": {},
   "source": [
    "### Example 1.2"
   ]
  },
  {
   "cell_type": "code",
   "execution_count": 2,
   "metadata": {},
   "outputs": [
    {
     "name": "stdout",
     "output_type": "stream",
     "text": [
      "Inside the function {'A': 28, 'B': 25, 'C': 32, 'D': 25, 'E': 30, 'F': 28}\n",
      "outside the function :  {'A': 28, 'B': 25, 'C': 32, 'D': 25, 'E': 30, 'F': 28}\n"
     ]
    }
   ],
   "source": [
    "student={'A' :28,'B' :25,'C' :32, 'D' :25}\n",
    "def test(student):\n",
    "    new={'E':30,'F':28}\n",
    "    student.update(new)\n",
    "    print(\"Inside the function\",student)\n",
    "    return \n",
    "test(student)\n",
    "print(\"outside the function : \" , student)"
   ]
  },
  {
   "cell_type": "markdown",
   "metadata": {},
   "source": [
    "## 2.Python Classes"
   ]
  },
  {
   "cell_type": "markdown",
   "metadata": {},
   "source": [
    "### Exercise 2.1"
   ]
  },
  {
   "cell_type": "code",
   "execution_count": 3,
   "metadata": {},
   "outputs": [
    {
     "name": "stdout",
     "output_type": "stream",
     "text": [
      "Waled Alamri\n"
     ]
    }
   ],
   "source": [
    "class student :\n",
    "    def __init__(self,name):\n",
    "        self.name=name\n",
    "        self.course_list= []\n",
    "std=student(\"Waled Alamri\")\n",
    "print(std.name)\n"
   ]
  },
  {
   "cell_type": "markdown",
   "metadata": {},
   "source": [
    "## 2.1. Methods "
   ]
  },
  {
   "cell_type": "code",
   "execution_count": 4,
   "metadata": {},
   "outputs": [
    {
     "name": "stdout",
     "output_type": "stream",
     "text": [
      "['python']\n"
     ]
    }
   ],
   "source": [
    "class student :\n",
    "    def __init__(self,name):\n",
    "        self.name=name\n",
    "        self.course_list= []\n",
    "    def add(self, new_course):\n",
    "        self.course_list.append(new_course)\n",
    "        \n",
    "std=student(\"Waled Alamri\")\n",
    "std.add(\"python\")\n",
    "print(std.course_list)"
   ]
  },
  {
   "cell_type": "code",
   "execution_count": 5,
   "metadata": {},
   "outputs": [
    {
     "name": "stdout",
     "output_type": "stream",
     "text": [
      "Lab3Is\n",
      "['Is']\n"
     ]
    }
   ],
   "source": [
    "class student:\n",
    "    \n",
    "    def __init__(self, name):\n",
    "        self.name=name\n",
    "        self.course_list= []\n",
    "    def add(self, new_course):\n",
    "        self.course_list.append(new_course)\n",
    "        \n",
    "std=student(\"Waled Alamri\")\n",
    "txt = input(\"Lab3\")\n",
    "std.add(txt)\n",
    "print(std.course_list)"
   ]
  },
  {
   "cell_type": "markdown",
   "metadata": {},
   "source": [
    "## 2.2.Inheritance"
   ]
  },
  {
   "cell_type": "code",
   "execution_count": 6,
   "metadata": {},
   "outputs": [
    {
     "name": "stdout",
     "output_type": "stream",
     "text": [
      "Mohammed ALsarem\n"
     ]
    }
   ],
   "source": [
    "class person:\n",
    "    def __init__(self,fname, lname):\n",
    "        self.firstname = fname\n",
    "        self.lastname = lname\n",
    "        \n",
    "    def printname(self):\n",
    "        print(self.firstname, self.lastname)\n",
    "        \n",
    "class professor(person):\n",
    "    pass\n",
    "mhd = professor(\"Mohammed\", \"ALsarem\")\n",
    "mhd.printname()"
   ]
  },
  {
   "cell_type": "code",
   "execution_count": null,
   "metadata": {},
   "outputs": [],
   "source": []
  }
 ],
 "metadata": {
  "kernelspec": {
   "display_name": "Python 3",
   "language": "python",
   "name": "python3"
  },
  "language_info": {
   "codemirror_mode": {
    "name": "ipython",
    "version": 3
   },
   "file_extension": ".py",
   "mimetype": "text/x-python",
   "name": "python",
   "nbconvert_exporter": "python",
   "pygments_lexer": "ipython3",
   "version": "3.8.5"
  }
 },
 "nbformat": 4,
 "nbformat_minor": 4
}
